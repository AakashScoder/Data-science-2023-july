{
 "cells": [
  {
   "cell_type": "code",
   "execution_count": 3,
   "metadata": {},
   "outputs": [],
   "source": [
    "book = {\n",
    "    'title': \"the final empire\", \"author\": 'Brandon Sanderson', \"price\": \"1499\",'year':'2006','pages':'656', 'language' : ['english',]\n",
    "}"
   ]
  },
  {
   "cell_type": "code",
   "execution_count": 7,
   "metadata": {},
   "outputs": [
    {
     "name": "stdout",
     "output_type": "stream",
     "text": [
      "{'title': 'the final empire', 'author': 'Brandon Sanderson', 'price': '1499', 'year': '2006', 'pages': '656', 'language': ['english'], 'rating': 4.9, 'type': 'paperback'}\n"
     ]
    }
   ],
   "source": [
    "book ['rating']=4.9\n",
    "book ['type']=\"paperback\"\n",
    "print(book)"
   ]
  },
  {
   "cell_type": "code",
   "execution_count": 8,
   "metadata": {},
   "outputs": [
    {
     "data": {
      "text/plain": [
       "'656'"
      ]
     },
     "execution_count": 8,
     "metadata": {},
     "output_type": "execute_result"
    }
   ],
   "source": [
    "book['pages']"
   ]
  },
  {
   "cell_type": "code",
   "execution_count": 10,
   "metadata": {},
   "outputs": [
    {
     "data": {
      "text/plain": [
       "'paperback'"
      ]
     },
     "execution_count": 10,
     "metadata": {},
     "output_type": "execute_result"
    }
   ],
   "source": [
    "book.pop('type')"
   ]
  },
  {
   "cell_type": "code",
   "execution_count": 11,
   "metadata": {},
   "outputs": [
    {
     "name": "stdout",
     "output_type": "stream",
     "text": [
      "book\n"
     ]
    }
   ],
   "source": [
    "p"
   ]
  },
  {
   "cell_type": "code",
   "execution_count": 12,
   "metadata": {},
   "outputs": [
    {
     "name": "stdout",
     "output_type": "stream",
     "text": [
      "{'title': 'the final empire', 'author': 'Brandon Sanderson', 'price': '1499', 'year': '2006', 'pages': '656', 'language': ['english'], 'rating': 4.9}\n"
     ]
    }
   ],
   "source": [
    "print(book)"
   ]
  },
  {
   "cell_type": "code",
   "execution_count": 14,
   "metadata": {},
   "outputs": [
    {
     "data": {
      "text/plain": [
       "['the final empire',\n",
       " 'Brandon Sanderson',\n",
       " '1499',\n",
       " '2006',\n",
       " '656',\n",
       " ['english'],\n",
       " 4.9]"
      ]
     },
     "execution_count": 14,
     "metadata": {},
     "output_type": "execute_result"
    }
   ],
   "source": [
    "list(book.values())"
   ]
  },
  {
   "cell_type": "code",
   "execution_count": 15,
   "metadata": {},
   "outputs": [
    {
     "data": {
      "text/plain": [
       "['title', 'author', 'price', 'year', 'pages', 'language', 'rating']"
      ]
     },
     "execution_count": 15,
     "metadata": {},
     "output_type": "execute_result"
    }
   ],
   "source": [
    "list(book.keys())"
   ]
  },
  {
   "cell_type": "code",
   "execution_count": 16,
   "metadata": {},
   "outputs": [
    {
     "data": {
      "text/plain": [
       "[('title', 'the final empire'),\n",
       " ('author', 'Brandon Sanderson'),\n",
       " ('price', '1499'),\n",
       " ('year', '2006'),\n",
       " ('pages', '656'),\n",
       " ('language', ['english']),\n",
       " ('rating', 4.9)]"
      ]
     },
     "execution_count": 16,
     "metadata": {},
     "output_type": "execute_result"
    }
   ],
   "source": [
    "list(book.items())\n"
   ]
  },
  {
   "cell_type": "code",
   "execution_count": 19,
   "metadata": {},
   "outputs": [
    {
     "data": {
      "text/plain": [
       "'not found'"
      ]
     },
     "execution_count": 19,
     "metadata": {},
     "output_type": "execute_result"
    }
   ],
   "source": [
    "book.get('tyo', 'not found')"
   ]
  },
  {
   "cell_type": "code",
   "execution_count": 21,
   "metadata": {},
   "outputs": [
    {
     "data": {
      "text/plain": [
       "'not found'"
      ]
     },
     "execution_count": 21,
     "metadata": {},
     "output_type": "execute_result"
    }
   ],
   "source": [
    "book.get('type',\"not found\")"
   ]
  },
  {
   "cell_type": "code",
   "execution_count": 27,
   "metadata": {},
   "outputs": [
    {
     "name": "stdout",
     "output_type": "stream",
     "text": [
      "{'aakash': 6.0, 'sky': 45.0, 'kk': 3.0}\n"
     ]
    }
   ],
   "source": [
    "myrating ={}\n",
    "for i in range(1,4):\n",
    "    name =input(f'enter the name of movie{i}:')\n",
    "    rating = float(input(f'enter the rating of movie {i}:'))\n",
    "    myrating[name] = rating\n",
    "\n",
    "print(myrating)"
   ]
  },
  {
   "cell_type": "code",
   "execution_count": 33,
   "metadata": {},
   "outputs": [],
   "source": [
    "\n",
    "books={\n",
    "    'book1':{\n",
    "        'title': \"the final empire\", \"author\": 'Brandon Sanderson', \"price\": \"1499\",\n",
    "    },\n",
    "    \"book2\":{\n",
    "        'title': \" empire\", \"author\": 'Sanderson', \"price\": \"199\",\n",
    "    },\n",
    "    'book3':{\n",
    "        'title': \" final \", \"author\": 'Brandon ', \"price\": \"149\",\n",
    "    }\n",
    "}"
   ]
  },
  {
   "cell_type": "code",
   "execution_count": 35,
   "metadata": {},
   "outputs": [
    {
     "name": "stdout",
     "output_type": "stream",
     "text": [
      "book1\n",
      "book2\n",
      "book3\n"
     ]
    }
   ],
   "source": [
    "for name, detial in books.items():\n",
    "    print(name)"
   ]
  },
  {
   "cell_type": "code",
   "execution_count": 38,
   "metadata": {},
   "outputs": [
    {
     "name": "stdout",
     "output_type": "stream",
     "text": [
      "book1\n",
      "\ttitle = the final empire\n",
      "\tauthor = Brandon Sanderson\n",
      "\tprice = 1499\n",
      "book2\n",
      "\ttitle =  empire\n",
      "\tauthor = Sanderson\n",
      "\tprice = 199\n",
      "book3\n",
      "\ttitle =  final \n",
      "\tauthor = Brandon \n",
      "\tprice = 149\n"
     ]
    }
   ],
   "source": [
    "for name, detial in books.items():\n",
    "    print(name)\n",
    "    for k,v in detial.items():\n",
    "        print(f\"\\t{k} = {v}\")"
   ]
  },
  {
   "cell_type": "code",
   "execution_count": 41,
   "metadata": {},
   "outputs": [
    {
     "name": "stdout",
     "output_type": "stream",
     "text": [
      "book1 {'title': 'the final empire', 'author': 'Brandon Sanderson', 'price': '1499'}\n"
     ]
    }
   ],
   "source": [
    "query = \"the \"\n",
    "for name, detial in books.items():\n",
    "    if query in detial['title']:\n",
    "        print(name,detial)"
   ]
  },
  {
   "cell_type": "code",
   "execution_count": 44,
   "metadata": {},
   "outputs": [
    {
     "ename": "TypeError",
     "evalue": "'int' object is not callable",
     "output_type": "error",
     "traceback": [
      "\u001b[1;31m---------------------------------------------------------------------------\u001b[0m",
      "\u001b[1;31mTypeError\u001b[0m                                 Traceback (most recent call last)",
      "Cell \u001b[1;32mIn[44], line 9\u001b[0m\n\u001b[0;32m      7\u001b[0m     price \u001b[39m=\u001b[39m \u001b[39mint\u001b[39m(\u001b[39minput\u001b[39m(\u001b[39m'\u001b[39m\u001b[39menter prices:\u001b[39m\u001b[39m'\u001b[39m))\n\u001b[0;32m      8\u001b[0m     items[item] \u001b[39m=\u001b[39m price\n\u001b[1;32m----> 9\u001b[0m \u001b[39mprint\u001b[39m(items)\n",
      "\u001b[1;31mTypeError\u001b[0m: 'int' object is not callable"
     ]
    }
   ],
   "source": [
    "# wap to ask user to enter item and its price and then store it in a dictionary , the program should stop when the user wants \n",
    "# hint- while loop\n",
    "items = {}\n",
    "while True:\n",
    "    item = input('enter')\n",
    "    if not item: break\n",
    "    price = int(input('enter prices:'))\n",
    "    items[item] = price\n",
    "print(items)\n"
   ]
  },
  {
   "cell_type": "code",
   "execution_count": null,
   "metadata": {},
   "outputs": [],
   "source": []
  }
 ],
 "metadata": {
  "kernelspec": {
   "display_name": "base",
   "language": "python",
   "name": "python3"
  },
  "language_info": {
   "codemirror_mode": {
    "name": "ipython",
    "version": 3
   },
   "file_extension": ".py",
   "mimetype": "text/x-python",
   "name": "python",
   "nbconvert_exporter": "python",
   "pygments_lexer": "ipython3",
   "version": "3.11.4"
  },
  "orig_nbformat": 4
 },
 "nbformat": 4,
 "nbformat_minor": 2
}
