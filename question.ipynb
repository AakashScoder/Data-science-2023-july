{
 "cells": [
  {
   "cell_type": "markdown",
   "metadata": {},
   "source": [
    "# wap to find all the indexes of a search element in a given list"
   ]
  },
  {
   "cell_type": "code",
   "execution_count": 7,
   "metadata": {},
   "outputs": [],
   "source": [
    "a=[ 1,1,1,2,3,4,6,0,0,0,3,3,2,1,5,6,1,5]"
   ]
  },
  {
   "cell_type": "code",
   "execution_count": 8,
   "metadata": {},
   "outputs": [
    {
     "name": "stdout",
     "output_type": "stream",
     "text": [
      "[4, 10, 11]\n"
     ]
    }
   ],
   "source": [
    "search = 3\n",
    "cnt = a.count(search)\n",
    "start = 0\n",
    "results = []\n",
    "for i in range(cnt):\n",
    "    idx = a.index(search, start)\n",
    "    start = idx +1\n",
    "    results.append(idx)\n",
    "print(results)"
   ]
  },
  {
   "cell_type": "code",
   "execution_count": 9,
   "metadata": {},
   "outputs": [
    {
     "name": "stdout",
     "output_type": "stream",
     "text": [
      "[0, 1, 1, 2, 3, 5, 8, 13, 21, 34, 55, 89, 144, 233, 377, 610, 987]\n"
     ]
    }
   ],
   "source": [
    "fib = [0,1]\n",
    "for i in range(15):\n",
    "    fib.append(fib[-1] + fib[-2])\n",
    "print(fib)\n"
   ]
  },
  {
   "cell_type": "code",
   "execution_count": 10,
   "metadata": {},
   "outputs": [
    {
     "name": "stdout",
     "output_type": "stream",
     "text": [
      "1\n",
      "2\n",
      "3\n",
      "4\n",
      "5\n"
     ]
    }
   ],
   "source": [
    "num = 5\n",
    "f =1 \n",
    "for i in range (1,num+1):\n",
    "    print(i*f)"
   ]
  },
  {
   "cell_type": "code",
   "execution_count": 11,
   "metadata": {},
   "outputs": [
    {
     "name": "stdout",
     "output_type": "stream",
     "text": [
      "12696403353658275925965100847566516959580321051449436762275840000000000000\n"
     ]
    }
   ],
   "source": [
    "num = 55\n",
    "f =1 \n",
    "for i in range (1,num+1):\n",
    "    f= f*i\n",
    "print(f)"
   ]
  },
  {
   "cell_type": "code",
   "execution_count": 17,
   "metadata": {},
   "outputs": [
    {
     "name": "stdout",
     "output_type": "stream",
     "text": [
      "['orange']\n"
     ]
    }
   ],
   "source": [
    "# filter\n",
    "colors =['red','orange','green','pink','yellow','brown','cyan']\n",
    "colors_with_n = []\n",
    "for c in colors:\n",
    "    if c .endswith('e'):\n",
    "        colors_with_n.append(c)\n",
    "print(colors_with_n)\n",
    "\n"
   ]
  },
  {
   "cell_type": "code",
   "execution_count": 18,
   "metadata": {},
   "outputs": [
    {
     "name": "stdout",
     "output_type": "stream",
     "text": [
      "['red', 'orange', 'green', 'yellow', 'cyan']\n"
     ]
    }
   ],
   "source": [
    "colors_having_ane=[]\n",
    "for c in colors:\n",
    "    if 'a' in c or 'e' in c:\n",
    "        colors_having_ane.append(c)\n",
    "print(colors_having_ane)"
   ]
  },
  {
   "cell_type": "code",
   "execution_count": 19,
   "metadata": {},
   "outputs": [
    {
     "name": "stdout",
     "output_type": "stream",
     "text": [
      "[3, 4, 36, 3, 5, 4, 3, 4, 7, 7, 9]\n"
     ]
    }
   ],
   "source": [
    "#mapping\n",
    "a = [1,2,34,1,3,2,1,2,5,5,7]\n",
    "a2 =[]\n",
    "for num in a:\n",
    "    a2.append(num +2)\n",
    "print(a2)"
   ]
  },
  {
   "cell_type": "code",
   "execution_count": null,
   "metadata": {},
   "outputs": [],
   "source": [
    "a = [1,2,34,1,3,2,1,2,5,5,7]\n",
    "a2 =[]\n",
    "for num in a:\n",
    "    a2.append(num +2)\n",
    "print(a2)"
   ]
  },
  {
   "cell_type": "code",
   "execution_count": 22,
   "metadata": {},
   "outputs": [
    {
     "name": "stdout",
     "output_type": "stream",
     "text": [
      "[1, 4, 1156, 1, 9, 4, 1, 4, 25, 25, 49]\n"
     ]
    }
   ],
   "source": [
    " even_sqrt =[]\n",
    "for i in a:\n",
    "    even_sqrt.append(i**2)\n",
    "print(even_sqrt)"
   ]
  },
  {
   "cell_type": "code",
   "execution_count": 23,
   "metadata": {},
   "outputs": [
    {
     "name": "stdout",
     "output_type": "stream",
     "text": [
      "A k\n",
      "V S\n",
      "R K\n",
      "R S\n"
     ]
    }
   ],
   "source": [
    "full_names =['Amar kumar','Vijay Singh ','Rajesh Kumar','Rajesh Singh',]\n",
    "\n",
    "short_names =[]\n",
    "for nm in full_names:\n",
    "    words = nm.split()\n",
    "    print(words[0][0],words [-1][0])\n"
   ]
  },
  {
   "cell_type": "code",
   "execution_count": 24,
   "metadata": {},
   "outputs": [
    {
     "name": "stdout",
     "output_type": "stream",
     "text": [
      "['Ak', 'VS', 'RK', 'RS']\n"
     ]
    }
   ],
   "source": [
    "short_names =[]\n",
    "for nm in full_names:\n",
    "    words = nm.split()\n",
    "    short_names.append(words[0][0]+words [-1][0])\n",
    "print(short_names)"
   ]
  },
  {
   "cell_type": "code",
   "execution_count": null,
   "metadata": {},
   "outputs": [],
   "source": []
  }
 ],
 "metadata": {
  "kernelspec": {
   "display_name": "base",
   "language": "python",
   "name": "python3"
  },
  "language_info": {
   "codemirror_mode": {
    "name": "ipython",
    "version": 3
   },
   "file_extension": ".py",
   "mimetype": "text/x-python",
   "name": "python",
   "nbconvert_exporter": "python",
   "pygments_lexer": "ipython3",
   "version": "3.11.4"
  },
  "orig_nbformat": 4
 },
 "nbformat": 4,
 "nbformat_minor": 2
}
