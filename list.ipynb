{
 "cells": [
  {
   "cell_type": "code",
   "execution_count": null,
   "metadata": {},
   "outputs": [],
   "source": [
    "#list\n",
    "- indexed, ordered, mutable,can have duplicates,'[]', list()\n",
    "\n",
    "# tuple\n",
    "indexed, ordered, *immutable*,can have duplicates,'[]', tuple()\n",
    "\n",
    "# set \n",
    "- -unindexed, unordered, mutable,*cannot have duplicates,'[]', 'set()'\n",
    "\n",
    "# dictionary \n",
    "- unindexed, ordered, mutable,*key : value pairs*, *immutable keys*,'{key :'value'}', 'dict()'"
   ]
  },
  {
   "cell_type": "code",
   "execution_count": 4,
   "metadata": {},
   "outputs": [],
   "source": [
    "#creating list\n",
    "x =[]# empty list\n",
    "a = [1, 2,3,4]# numeric list\n",
    "colors = ['red ','yellow','green']# string list\n",
    "mixed = ['red','yellow','green','false','none',[1,2,3]]#mixed list\n",
    "nested_list = [[1,2,3],[4,5,6,7,8]]# nested list"
   ]
  },
  {
   "cell_type": "code",
   "execution_count": 1,
   "metadata": {},
   "outputs": [
    {
     "name": "stdout",
     "output_type": "stream",
     "text": [
      "['a', 'a', 'k', 'a', 's', 'h']\n"
     ]
    }
   ],
   "source": [
    "name = 'aakash'\n",
    "charlist = list(name)\n",
    "print(charlist)"
   ]
  },
  {
   "cell_type": "code",
   "execution_count": 5,
   "metadata": {},
   "outputs": [
    {
     "data": {
      "text/plain": [
       "['red ',\n",
       " 'yellow',\n",
       " 'green',\n",
       " 'red ',\n",
       " 'yellow',\n",
       " 'green',\n",
       " 'red ',\n",
       " 'yellow',\n",
       " 'green']"
      ]
     },
     "execution_count": 5,
     "metadata": {},
     "output_type": "execute_result"
    }
   ],
   "source": [
    "colors * 3"
   ]
  },
  {
   "cell_type": "code",
   "execution_count": 10,
   "metadata": {},
   "outputs": [
    {
     "data": {
      "text/plain": [
       "[1, 2, 3, 4, 'red ', 'yellow', 'green']"
      ]
     },
     "execution_count": 10,
     "metadata": {},
     "output_type": "execute_result"
    }
   ],
   "source": [
    "a+colors"
   ]
  },
  {
   "cell_type": "code",
   "execution_count": 11,
   "metadata": {},
   "outputs": [
    {
     "data": {
      "text/plain": [
       "11"
      ]
     },
     "execution_count": 11,
     "metadata": {},
     "output_type": "execute_result"
    }
   ],
   "source": [
    "colors = ['red','green','yellow','orange','blue','white','black','pink','brown,','sky','grey']\n",
    "len(colors)"
   ]
  },
  {
   "cell_type": "code",
   "execution_count": 13,
   "metadata": {},
   "outputs": [
    {
     "name": "stdout",
     "output_type": "stream",
     "text": [
      "['red', 'green', 'yellow', 'orange', 'blue']\n"
     ]
    }
   ],
   "source": [
    "print(colors[:5])"
   ]
  },
  {
   "cell_type": "code",
   "execution_count": 14,
   "metadata": {},
   "outputs": [
    {
     "name": "stdout",
     "output_type": "stream",
     "text": [
      "['sky', 'grey']\n"
     ]
    }
   ],
   "source": [
    "print(colors[-2:])"
   ]
  },
  {
   "cell_type": "code",
   "execution_count": 17,
   "metadata": {},
   "outputs": [
    {
     "name": "stdout",
     "output_type": "stream",
     "text": [
      "red\n",
      "white\n"
     ]
    }
   ],
   "source": [
    "print(colors[0])\n",
    "print(colors[5])\n"
   ]
  },
  {
   "cell_type": "code",
   "execution_count": 15,
   "metadata": {},
   "outputs": [
    {
     "name": "stdout",
     "output_type": "stream",
     "text": [
      "['grey', 'sky', 'brown,', 'pink', 'black', 'white', 'blue', 'orange', 'yellow', 'green', 'red']\n"
     ]
    }
   ],
   "source": [
    "print(colors[::-1])"
   ]
  },
  {
   "cell_type": "code",
   "execution_count": null,
   "metadata": {},
   "outputs": [],
   "source": []
  },
  {
   "cell_type": "markdown",
   "metadata": {},
   "source": [
    "total 11 methods in a list\n",
    "\n",
    "- to add\n",
    "  1.append()\n",
    "  2.extend()\n",
    "  3.insert()\n",
    "\n",
    "- to remove\n",
    " 1. remove()\n",
    " 2.pop()\n",
    " 3.clear()\n",
    "\n",
    "for utility\n",
    " 1.reverse()\n",
    " 2.sort()\n",
    " 3.copy()\n",
    " 4.count()\n",
    " 5.index()"
   ]
  },
  {
   "cell_type": "code",
   "execution_count": 18,
   "metadata": {},
   "outputs": [],
   "source": [
    "tvshows = []# empty list\n",
    "tvshows.append(\"ben 10\")\n",
    "tvshows.append(\"Aakash with coding\")\n",
    "tvshows.append(\"tom and jerry\")\n",
    "tvshows.append(\"CID\")"
   ]
  },
  {
   "cell_type": "code",
   "execution_count": 28,
   "metadata": {},
   "outputs": [
    {
     "name": "stdout",
     "output_type": "stream",
     "text": [
      "['ben 10', 'Aakash with coding', 'tom and jerry']\n"
     ]
    }
   ],
   "source": [
    "print(tvshows)"
   ]
  },
  {
   "cell_type": "code",
   "execution_count": 30,
   "metadata": {},
   "outputs": [
    {
     "name": "stdout",
     "output_type": "stream",
     "text": [
      "['ben 10', 'friends', 'the office', 'the office', 'Aakash with coding', 'tom and jerry']\n"
     ]
    }
   ],
   "source": [
    "tvshows.insert(1,\"the office\")\n",
    "tvshows.insert(1,\"friends\")\n",
    "print(tvshows)"
   ]
  },
  {
   "cell_type": "code",
   "execution_count": 31,
   "metadata": {},
   "outputs": [
    {
     "name": "stdout",
     "output_type": "stream",
     "text": [
      "['CID ', ' KKK']\n"
     ]
    }
   ],
   "source": [
    "user_shows = input('enter your favourite shows separated by commas:')\n",
    "user_shows = user_shows.split(',')\n",
    "print(user_shows)"
   ]
  },
  {
   "cell_type": "code",
   "execution_count": 32,
   "metadata": {},
   "outputs": [
    {
     "name": "stdout",
     "output_type": "stream",
     "text": [
      "['ben 10', 'friends', 'the office', 'the office', 'Aakash with coding', 'tom and jerry', 'ben 10', 'friends', 'the office', 'the office', 'Aakash with coding', 'tom and jerry']\n"
     ]
    }
   ],
   "source": [
    "tvshows.extend(tvshows)\n",
    "print(tvshows)"
   ]
  },
  {
   "cell_type": "code",
   "execution_count": 33,
   "metadata": {},
   "outputs": [
    {
     "name": "stdout",
     "output_type": "stream",
     "text": [
      "['ben 10', 'friends', 'the office', 'the office', 'Aakash with coding', 'tom and jerry', 'ben 10', 'friends', 'the office', 'the office', 'Aakash with coding', 'tom and jerry']\n"
     ]
    }
   ],
   "source": [
    "# to remove\n",
    "# if we know the index we will use pop()\n",
    "# if we know the value we will use remove()\n",
    "if 'CID ' in tvshows:\n",
    "    tvshows.remove('CID')\n",
    "print(tvshows)"
   ]
  },
  {
   "cell_type": "code",
   "execution_count": 37,
   "metadata": {},
   "outputs": [
    {
     "name": "stdout",
     "output_type": "stream",
     "text": [
      "the office\n"
     ]
    }
   ],
   "source": [
    "popped_value= tvshows.pop(2)\n",
    "print(popped_value)"
   ]
  },
  {
   "cell_type": "code",
   "execution_count": 38,
   "metadata": {},
   "outputs": [],
   "source": [
    "tvshows.clear()"
   ]
  },
  {
   "cell_type": "code",
   "execution_count": null,
   "metadata": {},
   "outputs": [],
   "source": [
    "del colors"
   ]
  },
  {
   "cell_type": "code",
   "execution_count": 25,
   "metadata": {},
   "outputs": [
    {
     "name": "stdout",
     "output_type": "stream",
     "text": [
      "[1, 1, 4, 6, 16, 23, 34, 35, 45, 64, 66, 67, 456, 665, 6163]\n",
      "[6163, 665, 456, 67, 66, 64, 45, 35, 34, 23, 16, 6, 4, 1, 1]\n"
     ]
    }
   ],
   "source": [
    "x = [1,23,67,456,45,66,1,6,4,665,16,6163,34,35,64]\n",
    "x.sort()\n",
    "print(x)\n",
    "x.reverse()\n",
    "print(x)"
   ]
  },
  {
   "cell_type": "code",
   "execution_count": 27,
   "metadata": {},
   "outputs": [
    {
     "name": "stdout",
     "output_type": "stream",
     "text": [
      "13\n",
      "14\n"
     ]
    }
   ],
   "source": [
    "start = 0 \n",
    "for i in range(x.count(1)):\n",
    "    pos = x.index(1,start)\n",
    "    start = pos + 1\n",
    "    print(pos)\n",
    "    "
   ]
  },
  {
   "cell_type": "code",
   "execution_count": null,
   "metadata": {},
   "outputs": [],
   "source": []
  }
 ],
 "metadata": {
  "kernelspec": {
   "display_name": "base",
   "language": "python",
   "name": "python3"
  },
  "language_info": {
   "codemirror_mode": {
    "name": "ipython",
    "version": 3
   },
   "file_extension": ".py",
   "mimetype": "text/x-python",
   "name": "python",
   "nbconvert_exporter": "python",
   "pygments_lexer": "ipython3",
   "version": "3.11.4"
  },
  "orig_nbformat": 4
 },
 "nbformat": 4,
 "nbformat_minor": 2
}
