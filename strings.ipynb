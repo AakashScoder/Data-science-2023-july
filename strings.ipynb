{
 "cells": [
  {
   "cell_type": "code",
   "execution_count": null,
   "metadata": {},
   "outputs": [],
   "source": [
    "Strings\n",
    " create\n",
    " index and slice\n",
    " methods"
   ]
  },
  {
   "cell_type": "code",
   "execution_count": 1,
   "metadata": {},
   "outputs": [
    {
     "name": "stdout",
     "output_type": "stream",
     "text": [
      "<class 'str'> <class 'str'> <class 'str'>\n",
      "<class 'str'>\n"
     ]
    }
   ],
   "source": [
    "a = 'Apple'\n",
    "b = \"Banana\"\n",
    "c = '''This \n",
    "is a string of multiple lines'''\n",
    "print(type(a), type(b), type(c))\n",
    "d = str(123 ) #convert value to string \n",
    "print(type(d))"
   ]
  },
  {
   "cell_type": "code",
   "execution_count": 2,
   "metadata": {},
   "outputs": [
    {
     "data": {
      "text/plain": [
       "'AppleAppleAppleAppleApple'"
      ]
     },
     "execution_count": 2,
     "metadata": {},
     "output_type": "execute_result"
    }
   ],
   "source": [
    "a * 5 #string duplication\n"
   ]
  },
  {
   "cell_type": "code",
   "execution_count": 3,
   "metadata": {},
   "outputs": [
    {
     "data": {
      "text/plain": [
       "'AppleAppleAppleAppleApple'"
      ]
     },
     "execution_count": 3,
     "metadata": {},
     "output_type": "execute_result"
    }
   ],
   "source": [
    "a * 5 #string duplication\n"
   ]
  },
  {
   "cell_type": "code",
   "execution_count": 4,
   "metadata": {},
   "outputs": [
    {
     "data": {
      "text/plain": [
       "'AppleBanana'"
      ]
     },
     "execution_count": 4,
     "metadata": {},
     "output_type": "execute_result"
    }
   ],
   "source": [
    "a + b #string concatenation\n"
   ]
  },
  {
   "cell_type": "code",
   "execution_count": 5,
   "metadata": {},
   "outputs": [
    {
     "data": {
      "text/plain": [
       "'e'"
      ]
     },
     "execution_count": 5,
     "metadata": {},
     "output_type": "execute_result"
    }
   ],
   "source": [
    "a[0]\n",
    "a[-1]\n"
   ]
  },
  {
   "cell_type": "code",
   "execution_count": 6,
   "metadata": {},
   "outputs": [
    {
     "ename": "TypeError",
     "evalue": "'str' object does not support item assignment",
     "output_type": "error",
     "traceback": [
      "\u001b[1;31m---------------------------------------------------------------------------\u001b[0m",
      "\u001b[1;31mTypeError\u001b[0m                                 Traceback (most recent call last)",
      "Cell \u001b[1;32mIn[6], line 1\u001b[0m\n\u001b[1;32m----> 1\u001b[0m a[\u001b[39m0\u001b[39m] \u001b[39m=\u001b[39m \u001b[39m'\u001b[39m\u001b[39mB\u001b[39m\u001b[39m'\u001b[39m\n",
      "\u001b[1;31mTypeError\u001b[0m: 'str' object does not support item assignment"
     ]
    }
   ],
   "source": [
    "a[0] = 'B' #TypeError : 'srt' object does not support item assignment\n"
   ]
  },
  {
   "cell_type": "code",
   "execution_count": 7,
   "metadata": {},
   "outputs": [
    {
     "data": {
      "text/plain": [
       "'App'"
      ]
     },
     "execution_count": 7,
     "metadata": {},
     "output_type": "execute_result"
    }
   ],
   "source": [
    "a[0:3] # > a[0] a[1] a[2]\n"
   ]
  },
  {
   "cell_type": "code",
   "execution_count": 11,
   "metadata": {},
   "outputs": [
    {
     "name": "stdout",
     "output_type": "stream",
     "text": [
      "Vijay\n",
      "Deenanath\n",
      "Chauhan\n",
      "Vijay\n",
      "Chauhan\n",
      "Chauhan\n"
     ]
    }
   ],
   "source": [
    "name = 'Vijay Deenanath Chauhan'\n",
    "print(name[0:5])\n",
    "print(name[6:15])\n",
    "print(name[16:len(name)])\n",
    "# when starting index is not given, it is assumed to be 0\n",
    "print(name[:5])\n",
    "# when ending index is not given, it is assumed to be Len(name)\n",
    "print(name[16:])\n",
    "print(name[-7:])\n"
   ]
  },
  {
   "cell_type": "code",
   "execution_count": 19,
   "metadata": {},
   "outputs": [
    {
     "name": "stdout",
     "output_type": "stream",
     "text": [
      "VjyDeaahCahn\n",
      "ia ennt hua\n"
     ]
    }
   ],
   "source": [
    "#slicing syntax\n",
    "\n",
    "#var[(start):(stop):(step)]\n",
    "print(name[::2])\n",
    "print(name[1::2])"
   ]
  },
  {
   "cell_type": "code",
   "execution_count": 16,
   "metadata": {},
   "outputs": [
    {
     "ename": "SyntaxError",
     "evalue": "invalid syntax (3206053193.py, line 1)",
     "output_type": "error",
     "traceback": [
      "\u001b[1;36m  Cell \u001b[1;32mIn[16], line 1\u001b[1;36m\u001b[0m\n\u001b[1;33m    string method\u001b[0m\n\u001b[1;37m           ^\u001b[0m\n\u001b[1;31mSyntaxError\u001b[0m\u001b[1;31m:\u001b[0m invalid syntax\n"
     ]
    }
   ],
   "source": [
    "string method \n",
    "- formatting methods\n",
    "    -upper(), lower (), capitalize(), title(), swapcase()\n",
    "- validation methods\n",
    "    -isupper(), islower (), title(), isalpha(),  isnumeric()\n",
    "    -startwith(), endswith()\n",
    "- utility methods \n",
    "    -split(), join(), find(), replace(), strip()     \n"
   ]
  },
  {
   "cell_type": "code",
   "execution_count": 20,
   "metadata": {},
   "outputs": [
    {
     "name": "stdout",
     "output_type": "stream",
     "text": [
      "THIS IS A PYTHON STRING\n",
      "this is a python string\n",
      "This is a python string\n",
      "THIS IS A python STRING\n",
      "this is a python string\n",
      "This Is A Python String\n"
     ]
    }
   ],
   "source": [
    "msg = 'this is a PYTHON string'\n",
    "print(msg.upper())\n",
    "print(msg.lower())\n",
    "print(msg.capitalize())\n",
    "print(msg.swapcase())\n",
    "print(msg.casefold())\n",
    "print(msg.title())\n"
   ]
  },
  {
   "cell_type": "code",
   "execution_count": 21,
   "metadata": {},
   "outputs": [
    {
     "name": "stdout",
     "output_type": "stream",
     "text": [
      "This Is A Python String\n"
     ]
    }
   ],
   "source": [
    "msg = msg.title()\n",
    "print(msg)\n"
   ]
  },
  {
   "cell_type": "code",
   "execution_count": 22,
   "metadata": {},
   "outputs": [
    {
     "data": {
      "text/plain": [
       "False"
      ]
     },
     "execution_count": 22,
     "metadata": {},
     "output_type": "execute_result"
    }
   ],
   "source": [
    "\"hello\".isupper()\n"
   ]
  },
  {
   "cell_type": "code",
   "execution_count": 23,
   "metadata": {},
   "outputs": [
    {
     "name": "stdout",
     "output_type": "stream",
     "text": [
      ">>> 3 <<<\n",
      "you entered a number\n",
      "you entered a alphanumeric\n"
     ]
    }
   ],
   "source": [
    "x = input('enter a number:')\n",
    "print('>>>', x,  '<<<')\n",
    "if x.isnumeric():\n",
    "    print('you entered a number')\n",
    "if x.isalpha():\n",
    "    print('you entered a string')\n",
    "if x.isalnum():\n",
    "    print('you entered a alphanumeric')\n",
    "if x.islower():\n",
    "    print('you entered a lowercase string')            \n"
   ]
  },
  {
   "cell_type": "code",
   "execution_count": 24,
   "metadata": {},
   "outputs": [
    {
     "name": "stdout",
     "output_type": "stream",
     "text": [
      "True\n",
      "False\n"
     ]
    }
   ],
   "source": [
    "person = \"Mr. Aakash\"\n",
    "print(person.startswith(\"Mr.\"))\n",
    "print(person.startswith(\"Ms.\"))\n"
   ]
  },
  {
   "cell_type": "code",
   "execution_count": 25,
   "metadata": {},
   "outputs": [
    {
     "name": "stdout",
     "output_type": "stream",
     "text": [
      "Blue\n",
      "Black\n",
      "Brown\n"
     ]
    }
   ],
   "source": [
    "colors =[\"Red\", \"Green\", \"Blue\", \"Black\", \"Brown\" ]\n",
    "for color in colors:\n",
    "    if color.startswith('B'):\n",
    "        print(color)\n"
   ]
  },
  {
   "cell_type": "code",
   "execution_count": 26,
   "metadata": {},
   "outputs": [
    {
     "name": "stdout",
     "output_type": "stream",
     "text": [
      "PNG found >> 1.png\n",
      "PNG found >> 2.png\n",
      "PNG found >> 3.png\n",
      "PNG found >> 4.png\n",
      "PNG found >> 5.png\n"
     ]
    }
   ],
   "source": [
    "images = [\"1.png\", \"2.png\", \"3.png\", \"4.png\", \"5.png\"]\n",
    "for img in images:\n",
    "    if img.endswith('.png'):\n",
    "        print(\"PNG found >>\", img)\n",
    "    if img.endswith('.jpg'):\n",
    "        print(\"JPG found >>\", img)    \n",
    "\n",
    "\n"
   ]
  },
  {
   "cell_type": "code",
   "execution_count": 27,
   "metadata": {},
   "outputs": [
    {
     "name": "stdout",
     "output_type": "stream",
     "text": [
      "Life Before Death, Strength Before Weakeness, Journey Before Destination\n",
      "['Life', 'Before', 'Death,', 'Strength', 'Before', 'Weakeness,', 'Journey', 'Before', 'Destination']\n",
      "['Life Before Death', ' Strength Before Weakeness', ' Journey Before Destination']\n",
      "['Life', 'Death, Strength', 'Weakeness, Journey', 'Destination']\n"
     ]
    }
   ],
   "source": [
    "quote = \"Life Before Death, Strength Before Weakeness, Journey Before Destination\"\n",
    "print(quote)\n",
    "print(quote.split())\n",
    "print(quote.split(\",\"))\n",
    "print(quote.split(\" Before \"))\n"
   ]
  },
  {
   "cell_type": "code",
   "execution_count": 28,
   "metadata": {},
   "outputs": [
    {
     "name": "stdout",
     "output_type": "stream",
     "text": [
      "['Life', 'Before', 'Death,', 'Strength', 'Before', 'Weakeness,', 'Journey', 'Before', 'Destination']\n",
      "9\n",
      "alex Alexa Alexix Alexander\n",
      "alex , Alexa , Alexix , Alexander\n",
      "alex ---Alexa ---Alexix ---Alexander\n",
      "alex+ Alexa+ Alexix+ Alexander\n",
      "alexAlexaAlexixAlexander\n"
     ]
    }
   ],
   "source": [
    "words = quote.split()\n",
    "print(words)\n",
    "print(len(words))\n",
    "x = ['alex','Alexa','Alexix','Alexander']\n",
    "print(\" \".join(x))\n",
    "print(\" , \".join(x))\n",
    "print(\" ---\".join(x))\n",
    "print(\"+ \".join(x))\n",
    "print(\"\".join(x))"
   ]
  },
  {
   "cell_type": "code",
   "execution_count": 29,
   "metadata": {},
   "outputs": [
    {
     "name": "stdout",
     "output_type": "stream",
     "text": [
      "0\n",
      "31\n",
      "65\n",
      "-1\n",
      "-1\n",
      "61\n"
     ]
    }
   ],
   "source": [
    "\n",
    " \n",
    "\n",
    "story= 'once upon a time , there was a king, who left his kingdom to the queen, and she ruled over it'\n",
    "print(story.find('on'))\n",
    "print(story.find('king'))\n",
    "print(story.find('queen'))\n",
    "print(story.find('prince'))\n",
    "print(story.find('king ',31)) #31 is the starting index for searching\n",
    "print(story.rfind('the'))\n"
   ]
  },
  {
   "cell_type": "code",
   "execution_count": 30,
   "metadata": {},
   "outputs": [
    {
     "name": "stdout",
     "output_type": "stream",
     "text": [
      "once upon a tome , there was a kong, who left hos kongdom to the queen, and she ruled over ot\n",
      "once upon a time , thisre was a king, who left his kingdom to this queen, and she ruled over it\n",
      "once upon a year , there is a king, who leaves his kingdom to the queen, and she ruled over it\n",
      "once upon  time , there ws  king, who left his kingdom to the queen, nd she ruled over it\n",
      "once upon a time , there was a , who left his dom to the queen, and she ruled over it\n"
     ]
    }
   ],
   "source": [
    "\n",
    "print(story.replace('i','o'))\n",
    "print(story.replace('the','this'))\n",
    "print(story.replace('time','year') .replace('was','is').replace('left','leaves'))\n",
    "print(story.replace('a','')) # remove all a\n",
    "print(story.replace('king','')) # remove all king"
   ]
  },
  {
   "cell_type": "code",
   "execution_count": 31,
   "metadata": {},
   "outputs": [
    {
     "name": "stdout",
     "output_type": "stream",
     "text": [
      "once upon a time , there was a queen, who left his queendom to the queen, and she ruled over it\n"
     ]
    }
   ],
   "source": [
    "\n",
    "story= story.replace('king','queen')\n",
    "print(story)"
   ]
  },
  {
   "cell_type": "code",
   "execution_count": 34,
   "metadata": {},
   "outputs": [
    {
     "name": "stdout",
     "output_type": "stream",
     "text": [
      "hello\n"
     ]
    }
   ],
   "source": [
    "\n",
    "#to replace space\n",
    "data = ' hello '\n",
    "cdata = data.strip()\n",
    "print(cdata.strip())"
   ]
  },
  {
   "cell_type": "code",
   "execution_count": 9,
   "metadata": {},
   "outputs": [],
   "source": [
    "\n",
    "kachra = ''"
   ]
  },
  {
   "cell_type": "code",
   "execution_count": 8,
   "metadata": {},
   "outputs": [
    {
     "ename": "TypeError",
     "evalue": "int() argument must be a string, a bytes-like object or a real number, not 'list'",
     "output_type": "error",
     "traceback": [
      "\u001b[1;31m---------------------------------------------------------------------------\u001b[0m",
      "\u001b[1;31mTypeError\u001b[0m                                 Traceback (most recent call last)",
      "Cell \u001b[1;32mIn[8], line 4\u001b[0m\n\u001b[0;32m      2\u001b[0m \u001b[39mfor\u001b[39;00m image \u001b[39min\u001b[39;00m images:\n\u001b[0;32m      3\u001b[0m     image \u001b[39m=\u001b[39m image\u001b[39m.\u001b[39mremovesuffix(\u001b[39m'\u001b[39m\u001b[39m.png\u001b[39m\u001b[39m'\u001b[39m)\u001b[39m.\u001b[39mremoveprefix(\u001b[39m'\u001b[39m\u001b[39m.jpg\u001b[39m\u001b[39m'\u001b[39m)\n\u001b[1;32m----> 4\u001b[0m     \u001b[39mprint\u001b[39m(\u001b[39mint\u001b[39m(images))\n",
      "\u001b[1;31mTypeError\u001b[0m: int() argument must be a string, a bytes-like object or a real number, not 'list'"
     ]
    }
   ],
   "source": [
    "\n",
    "images = ['1.jpg', '2.png','3.png','4.png']\n",
    "for image in images:\n",
    "    image = image.removesuffix('.png').removeprefix('.jpg')\n",
    "    print(int(images))"
   ]
  },
  {
   "cell_type": "code",
   "execution_count": null,
   "metadata": {},
   "outputs": [],
   "source": []
  }
 ],
 "metadata": {
  "kernelspec": {
   "display_name": "base",
   "language": "python",
   "name": "python3"
  },
  "language_info": {
   "codemirror_mode": {
    "name": "ipython",
    "version": 3
   },
   "file_extension": ".py",
   "mimetype": "text/x-python",
   "name": "python",
   "nbconvert_exporter": "python",
   "pygments_lexer": "ipython3",
   "version": "3.11.4"
  },
  "orig_nbformat": 4
 },
 "nbformat": 4,
 "nbformat_minor": 2
}
