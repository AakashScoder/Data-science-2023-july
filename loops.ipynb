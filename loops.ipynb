{
 "cells": [
  {
   "cell_type": "code",
   "execution_count": 1,
   "metadata": {},
   "outputs": [
    {
     "name": "stdout",
     "output_type": "stream",
     "text": [
      "0\n",
      "1\n",
      "2\n",
      "3\n",
      "4\n",
      "5\n",
      "6\n",
      "7\n",
      "8\n",
      "9\n",
      "10\n",
      "11\n",
      "12\n",
      "13\n",
      "14\n",
      "15\n",
      "16\n",
      "17\n",
      "18\n",
      "19\n"
     ]
    }
   ],
   "source": [
    "for i in range(20):\n",
    "    print(i)"
   ]
  },
  {
   "cell_type": "code",
   "execution_count": 2,
   "metadata": {},
   "outputs": [
    {
     "name": "stdout",
     "output_type": "stream",
     "text": [
      "5\n",
      "6\n",
      "7\n",
      "8\n",
      "9\n",
      "10\n",
      "11\n",
      "12\n",
      "13\n",
      "14\n"
     ]
    }
   ],
   "source": [
    "for i in range(5,15):\n",
    "    print(i)"
   ]
  },
  {
   "cell_type": "code",
   "execution_count": 3,
   "metadata": {},
   "outputs": [
    {
     "name": "stdout",
     "output_type": "stream",
     "text": [
      "10   9   8   7   6   5   4   3   2   1   "
     ]
    }
   ],
   "source": [
    "for i in range(10, 0 , -1):\n",
    "    print(i,end=\"   \")"
   ]
  },
  {
   "cell_type": "code",
   "execution_count": 4,
   "metadata": {},
   "outputs": [
    {
     "name": "stdout",
     "output_type": "stream",
     "text": [
      "12 56 454 56 78 96 646 6564 646 "
     ]
    }
   ],
   "source": [
    "data = [12,56,454,56,78,96,646,6564,646,]\n",
    "for item in data:\n",
    "    print(item, end=' ')\n"
   ]
  },
  {
   "cell_type": "code",
   "execution_count": 5,
   "metadata": {},
   "outputs": [
    {
     "name": "stdout",
     "output_type": "stream",
     "text": [
      "2\n",
      "45\n",
      "69\n",
      "89\n",
      "56\n",
      "45\n"
     ]
    }
   ],
   "source": [
    "prices=[2,45,69,None,89,56,None,45,None]\n",
    "for pr in prices:\n",
    "    if pr is not None:\n",
    "        print(pr)"
   ]
  },
  {
   "cell_type": "code",
   "execution_count": 6,
   "metadata": {},
   "outputs": [
    {
     "name": "stdout",
     "output_type": "stream",
     "text": [
      "2\n",
      "45\n",
      "69\n",
      "89\n",
      "56\n",
      "45\n"
     ]
    }
   ],
   "source": [
    "prices=[2,45,69,None,89,56,None,45,None]\n",
    "for pr in prices:\n",
    "    if pr is  None:\n",
    "        continue\n",
    "\n",
    "    print(pr)"
   ]
  },
  {
   "cell_type": "code",
   "execution_count": 10,
   "metadata": {},
   "outputs": [
    {
     "name": "stdout",
     "output_type": "stream",
     "text": [
      "2\n",
      "45\n",
      "69\n",
      "loop end\n"
     ]
    }
   ],
   "source": [
    "prices=[2,45,69,None,89,56,None,45,None]\n",
    "for item in prices:\n",
    "    if item is  None:\n",
    "        break\n",
    "    print(item)\n",
    "print('loop end')"
   ]
  },
  {
   "cell_type": "code",
   "execution_count": 14,
   "metadata": {},
   "outputs": [
    {
     "name": "stdout",
     "output_type": "stream",
     "text": [
      "1\n",
      "123\n",
      "2\n",
      "123\n",
      "3\n",
      "123\n",
      "4\n",
      "123\n",
      "5\n",
      "123\n"
     ]
    }
   ],
   "source": [
    "for i in range(1,6):\n",
    "    print(i)\n",
    "    for j in range(1,4):\n",
    "        print(j,end='')\n",
    "    print()"
   ]
  },
  {
   "cell_type": "code",
   "execution_count": null,
   "metadata": {},
   "outputs": [],
   "source": []
  },
  {
   "cell_type": "markdown",
   "metadata": {},
   "source": [
    "enumerate \n",
    "zip\n",
    "for -else\n"
   ]
  },
  {
   "cell_type": "code",
   "execution_count": 3,
   "metadata": {},
   "outputs": [
    {
     "name": "stdout",
     "output_type": "stream",
     "text": [
      "(0, 'sam')\n",
      "(1, 'ram')\n",
      "(2, 'sohan')\n",
      "(3, 'aakash')\n",
      "(4, 'ajay')\n"
     ]
    }
   ],
   "source": [
    "names = ['sam','ram','sohan','aakash','ajay']\n",
    "for name in enumerate(names):\n",
    "    print(name)"
   ]
  },
  {
   "cell_type": "code",
   "execution_count": null,
   "metadata": {},
   "outputs": [],
   "source": []
  },
  {
   "cell_type": "code",
   "execution_count": 6,
   "metadata": {},
   "outputs": [
    {
     "ename": "NameError",
     "evalue": "name 'nmaes' is not defined",
     "output_type": "error",
     "traceback": [
      "\u001b[1;31m---------------------------------------------------------------------------\u001b[0m",
      "\u001b[1;31mNameError\u001b[0m                                 Traceback (most recent call last)",
      "Cell \u001b[1;32mIn[6], line 1\u001b[0m\n\u001b[1;32m----> 1\u001b[0m \u001b[39mfor\u001b[39;00m idx,name \u001b[39min\u001b[39;00m \u001b[39menumerate\u001b[39m(nmaes):\n\u001b[0;32m      2\u001b[0m     \u001b[39mprint\u001b[39m(idx,name)\n",
      "\u001b[1;31mNameError\u001b[0m: name 'nmaes' is not defined"
     ]
    }
   ],
   "source": [
    "for idx,name in enumerate(nmaes):\n",
    "    print(idx,name)\n"
   ]
  },
  {
   "cell_type": "code",
   "execution_count": 8,
   "metadata": {},
   "outputs": [
    {
     "name": "stdout",
     "output_type": "stream",
     "text": [
      "(1, 7, 2)\n",
      "(2, 8, 3)\n",
      "(3, 3, 6)\n",
      "(4, 2, 5)\n"
     ]
    }
   ],
   "source": [
    "x =[1,2,3,4]\n",
    "y =[7,8,3,2]\n",
    "z =[2,3,6,5]\n",
    "for i in zip(x,y,z):\n",
    "    print(i)"
   ]
  },
  {
   "cell_type": "code",
   "execution_count": 13,
   "metadata": {},
   "outputs": [
    {
     "name": "stdout",
     "output_type": "stream",
     "text": [
      "(1, 7, 2)\n",
      "(2, 8, 3)\n",
      "(3, 3, 6)\n",
      "(4, 2, 5)\n"
     ]
    }
   ],
   "source": [
    "x =[1,2,3,4,8,9]\n",
    "y =[7,8,3,2,6,8]\n",
    "z =[2,3,6,5]\n",
    "for i in zip(x,y,z):\n",
    "    print(i)"
   ]
  },
  {
   "cell_type": "code",
   "execution_count": 7,
   "metadata": {},
   "outputs": [
    {
     "name": "stdout",
     "output_type": "stream",
     "text": [
      "1\n",
      "2\n",
      "3\n",
      "3\n",
      "2\n",
      "1\n",
      "3\n",
      "2\n",
      "6\n",
      "2\n"
     ]
    }
   ],
   "source": [
    "x = [1,2,3,3,2,1,3,2,6,2,1,3,1,2,3,1,3,2,1,2,3,1,2,3]\n",
    "for i, v in enumerate(x):\n",
    "    if i== 10:\n",
    "        break\n",
    "    print(v)"
   ]
  },
  {
   "cell_type": "markdown",
   "metadata": {},
   "source": [
    "zip\n"
   ]
  },
  {
   "cell_type": "code",
   "execution_count": 11,
   "metadata": {},
   "outputs": [
    {
     "name": "stdout",
     "output_type": "stream",
     "text": [
      "10\n",
      "13\n",
      "12\n",
      "11\n"
     ]
    }
   ],
   "source": [
    "for i,j,k in zip(x,y,z):\n",
    "    print(i+j+k)"
   ]
  },
  {
   "cell_type": "code",
   "execution_count": null,
   "metadata": {},
   "outputs": [],
   "source": [
    "for -else"
   ]
  },
  {
   "cell_type": "code",
   "execution_count": 14,
   "metadata": {},
   "outputs": [
    {
     "name": "stdout",
     "output_type": "stream",
     "text": [
      "1\n",
      "2\n"
     ]
    }
   ],
   "source": [
    "for i in x:\n",
    "    if i ==3:\n",
    "        break\n",
    "    print(i)\n",
    "else :\n",
    "    print ('done')"
   ]
  },
  {
   "cell_type": "code",
   "execution_count": 15,
   "metadata": {},
   "outputs": [
    {
     "name": "stdout",
     "output_type": "stream",
     "text": [
      "1\n",
      "2\n",
      "3\n",
      "4\n",
      "8\n",
      "9\n",
      "completed without break\n"
     ]
    }
   ],
   "source": [
    "for i in x:\n",
    "    if i ==13:\n",
    "        break\n",
    "    print(i)\n",
    "else :\n",
    "    print ('completed without break')"
   ]
  },
  {
   "cell_type": "code",
   "execution_count": 16,
   "metadata": {},
   "outputs": [
    {
     "name": "stdout",
     "output_type": "stream",
     "text": [
      "prime\n"
     ]
    }
   ],
   "source": [
    "num =7 \n",
    "for i in range (2,num):\n",
    "    if num%i ==0:\n",
    "        print('not prime')\n",
    "        break\n",
    "else:\n",
    "    print('prime')"
   ]
  },
  {
   "cell_type": "code",
   "execution_count": 17,
   "metadata": {},
   "outputs": [
    {
     "name": "stdout",
     "output_type": "stream",
     "text": [
      "not prime\n"
     ]
    }
   ],
   "source": [
    "num =7123 \n",
    "for i in range (2,num):\n",
    "    if num%i ==0:\n",
    "        print('not prime')\n",
    "        break\n",
    "else:\n",
    "    print('prime')"
   ]
  },
  {
   "cell_type": "code",
   "execution_count": 20,
   "metadata": {},
   "outputs": [
    {
     "name": "stdout",
     "output_type": "stream",
     "text": [
      "7123 % 2 = 1\n",
      "7123 % 3 = 1\n",
      "7123 % 4 = 3\n",
      "7123 % 5 = 3\n",
      "7123 % 6 = 1\n",
      "7123 % 7 = 4\n",
      "7123 % 8 = 3\n",
      "7123 % 9 = 4\n",
      "7123 % 10 = 3\n",
      "7123 % 11 = 6\n",
      "7123 % 12 = 7\n",
      "7123 % 13 = 12\n",
      "7123 % 14 = 11\n",
      "7123 % 15 = 13\n",
      "7123 % 16 = 3\n",
      "7123 % 17 = 0\n",
      "not prime\n"
     ]
    }
   ],
   "source": [
    "num =7123\n",
    "for i in range (2,num):\n",
    "    print(f'{num} % {i} = {num%i}')\n",
    "    if num%i ==0:\n",
    "        print('not prime')\n",
    "        break\n",
    "else:\n",
    "    print('prime')"
   ]
  },
  {
   "cell_type": "code",
   "execution_count": null,
   "metadata": {},
   "outputs": [],
   "source": []
  }
 ],
 "metadata": {
  "kernelspec": {
   "display_name": "base",
   "language": "python",
   "name": "python3"
  },
  "language_info": {
   "codemirror_mode": {
    "name": "ipython",
    "version": 3
   },
   "file_extension": ".py",
   "mimetype": "text/x-python",
   "name": "python",
   "nbconvert_exporter": "python",
   "pygments_lexer": "ipython3",
   "version": "3.11.4"
  },
  "orig_nbformat": 4
 },
 "nbformat": 4,
 "nbformat_minor": 2
}
