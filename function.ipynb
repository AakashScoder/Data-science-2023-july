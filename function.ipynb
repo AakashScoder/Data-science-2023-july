{
 "cells": [
  {
   "cell_type": "markdown",
   "metadata": {},
   "source": [
    "syntax\n",
    "'''\n",
    "def fun_name([parameter]):\n",
    "    statement1\n",
    "    statement2\n",
    "    .......\n",
    "    statement n\n",
    "    [return expression]\n",
    " \n",
    "Example\n",
    "\n",
    "\n"
   ]
  },
  {
   "cell_type": "code",
   "execution_count": 1,
   "metadata": {},
   "outputs": [],
   "source": [
    "def area(width, height):\n",
    "    a = width * height\n",
    "    return a"
   ]
  },
  {
   "cell_type": "markdown",
   "metadata": {},
   "source": [
    "- based on parameter and return value\n",
    "1. no parameter , no return value\n",
    "2. no parameter ,  return value\n",
    "3.  parameter , no return value\n",
    "4.  parameter ,  return value\n",
    "\n",
    "-based on parameter type\n",
    "1. required parameter\n",
    "2.keyword parameter\n",
    "3.default parameter\n",
    "4.variable length arguments (*args)\n",
    "5.variable keyword argument(** kwargs)\n",
    "\n",
    "other types of function\n",
    " -lambda function\n",
    " generator function\n",
    " recursive"
   ]
  },
  {
   "cell_type": "code",
   "execution_count": 1,
   "metadata": {},
   "outputs": [],
   "source": [
    "# value returing function\n",
    "def area ():\n",
    "    l = int(input())"
   ]
  },
  {
   "cell_type": "code",
   "execution_count": null,
   "metadata": {},
   "outputs": [],
   "source": [
    "ans = area()\n",
    "prin(f'area is {ans}')\n",
    "\n"
   ]
  },
  {
   "cell_type": "code",
   "execution_count": null,
   "metadata": {},
   "outputs": [],
   "source": [
    "def math():\n",
    "    p = int(input('enter the Rate '))\n",
    "    p = int(input('enter the Rate '))\n",
    "    p = int(input('enter the Rate '))\n",
    "    p = int(input('enter the Rate '))"
   ]
  }
 ],
 "metadata": {
  "kernelspec": {
   "display_name": "base",
   "language": "python",
   "name": "python3"
  },
  "language_info": {
   "codemirror_mode": {
    "name": "ipython",
    "version": 3
   },
   "file_extension": ".py",
   "mimetype": "text/x-python",
   "name": "python",
   "nbconvert_exporter": "python",
   "pygments_lexer": "ipython3",
   "version": "3.11.4"
  },
  "orig_nbformat": 4
 },
 "nbformat": 4,
 "nbformat_minor": 2
}
